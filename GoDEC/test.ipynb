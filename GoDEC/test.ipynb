{
 "cells": [
  {
   "cell_type": "code",
   "execution_count": null,
   "id": "561e9c39",
   "metadata": {},
   "outputs": [],
   "source": [
    "import argparse\n",
    "import time\n",
    "\n",
    "# from godec import godec\n",
    "import scipy.io as sio\n",
    "\n",
    "from numpy import prod, zeros, sqrt\n",
    "from numpy.random import randn\n",
    "from scipy.linalg import qr\n",
    "from sklearn.metrics import mean_squared_error\n",
    "\n",
    "import numpy as np\n",
    "from matplotlib import pyplot as plt"
   ]
  },
  {
   "cell_type": "code",
   "execution_count": 51,
   "id": "a2369fac",
   "metadata": {},
   "outputs": [],
   "source": [
    "def godec(X):\n",
    "    # t = time.time()\n",
    "    rank=1\n",
    "    card=None\n",
    "    iterated_power=10\n",
    "    max_iter=10000000\n",
    "    tol=0.0000001\n",
    "\n",
    "    iter = 1\n",
    "    RMSE = []\n",
    "    card = prod(X.shape) if card is None else card\n",
    "\n",
    "    X = X.T if(X.shape[0] < X.shape[1]) else X\n",
    "    m, n = X.shape\n",
    "\n",
    "    L = X\n",
    "    S = zeros(X.shape)\n",
    "    LS = zeros(X.shape)\n",
    "\n",
    "    while True:\n",
    "        # Update of L\n",
    "        Y2 = randn(n, rank)\n",
    "        for i in range(iterated_power):\n",
    "            Y1 = L.dot(Y2)\n",
    "            Y2 = L.T.dot(Y1)\n",
    "        Q, R = qr(Y2, mode='economic')\n",
    "        L_new = (L.dot(Q)).dot(Q.T)\n",
    "\n",
    "        # Update of S\n",
    "        T = L - L_new + S\n",
    "        L = L_new\n",
    "        T_vec = T.reshape(-1)\n",
    "        S_vec = S.reshape(-1)\n",
    "        idx = abs(T_vec).argsort()[::-1]\n",
    "        S_vec[idx[:card]] = T_vec[idx[:card]]\n",
    "        S = S_vec.reshape(S.shape)\n",
    "\n",
    "        # Reconstruction\n",
    "        LS = L + S\n",
    "\n",
    "        # Stopping criteria\n",
    "        error = sqrt(mean_squared_error(X, LS))\n",
    "        RMSE.append(error)\n",
    "\n",
    "        print(\"iter: \", iter, \"error: \", error)\n",
    "        if (error <= tol) or (iter >= max_iter):\n",
    "            break\n",
    "        else:\n",
    "            iter = iter + 1\n",
    "\n",
    "    return L,S"
   ]
  },
  {
   "cell_type": "code",
   "execution_count": 52,
   "id": "ce741f49",
   "metadata": {
    "scrolled": true
   },
   "outputs": [
    {
     "name": "stdout",
     "output_type": "stream",
     "text": [
      "iter:  1 error:  3.209675341400689e-17\n"
     ]
    }
   ],
   "source": [
    "# Load data\n",
    "mat_z = sio.loadmat(\"E:\\\\MY\\\\paper\\\\FDILocation\\\\code\\\\data\\\\single\\\\Z_ori\\\\Z-10-cs.mat\")\n",
    "mat_za = sio.loadmat(\"E:\\\\MY\\\\paper\\\\FDILocation\\\\code\\\\data\\\\single\\\\Za\\\\Za-10-cs.mat\")\n",
    "z = mat_z['z'][:,:,0]\n",
    "za = mat_za['za'][:,:,0]\n",
    "\n",
    "A = zeros((1,26))\n",
    "Z = zeros((1,26))\n",
    "for i in range(1):\n",
    "    N = np.vstack((z[0:-1,:],za[i,:]))\n",
    "    M = N.T\n",
    "\n",
    "    [m,n] = M.shape\n",
    "    L,S = godec(M)\n",
    "\n",
    "    A[i,:] = S.T[m-1,:]\n",
    "    Z[i,:] = L.T[m-1,:]\n",
    "    # sio.savemat(path+'\\A_new\\godec\\S_new-10-cs.mat', {'S': L})\n",
    "# mat_a = sio.loadmat(\"/Users/dqy/Desktop/data/A/a.mat\")\n",
    "# A = mat_a['a']\n",
    "#mat = sio.loadmat(\"dataset/demo.mat\")\n",
    "#M, height, width = mat['M'], int(mat['m']), int(mat['n'])"
   ]
  },
  {
   "cell_type": "code",
   "execution_count": 53,
   "id": "b96e6ee1",
   "metadata": {},
   "outputs": [
    {
     "data": {
      "image/png": "[encoded data removed]",
      "text/plain": [
       "<Figure size 432x288 with 1 Axes>"
      ]
     },
     "metadata": {
      "needs_background": "light"
     },
     "output_type": "display_data"
    }
   ],
   "source": [
    "im = plt.imshow(M)"
   ]
  },
  {
   "cell_type": "code",
   "execution_count": 54,
   "id": "ce4e864f",
   "metadata": {},
   "outputs": [
    {
     "data": {
      "image/png": "[encoded data removed]",
      "text/plain": [
       "<Figure size 432x288 with 1 Axes>"
      ]
     },
     "metadata": {
      "needs_background": "light"
     },
     "output_type": "display_data"
    }
   ],
   "source": [
    "im3 = plt.imshow(S)"
   ]
  },
  {
   "cell_type": "code",
   "execution_count": 55,
   "id": "d08be277",
   "metadata": {},
   "outputs": [
    {
     "data": {
      "image/png": "[encoded data removed]",
      "text/plain": [
       "<Figure size 432x288 with 1 Axes>"
      ]
     },
     "metadata": {
      "needs_background": "light"
     },
     "output_type": "display_data"
    }
   ],
   "source": [
    "im3 = plt.imshow(L)"
   ]
  },
  {
   "cell_type": "code",
   "execution_count": 34,
   "id": "7c6629ec",
   "metadata": {},
   "outputs": [
    {
     "data": {
      "image/png": "[encoded data removed]",
      "text/plain": [
       "<Figure size 432x288 with 1 Axes>"
      ]
     },
     "metadata": {
      "needs_background": "light"
     },
     "output_type": "display_data"
    }
   ],
   "source": [
    "A_ori = sio.loadmat(\"E:\\\\MY\\\\paper\\\\FDILocation\\\\code\\\\data\\\\single\\\\A\\\\A-10-cs.mat\")\n",
    "a = A_ori['a'][:,:,0]\n",
    "im3 = plt.imshow(a.T)"
   ]
  },
  {
   "cell_type": "code",
   "execution_count": null,
   "id": "4b19c5aa",
   "metadata": {},
   "outputs": [],
   "source": []
  }
 ],
 "metadata": {
  "kernelspec": {
   "display_name": "Python 3 (ipykernel)",
   "language": "python",
   "name": "python3"
  },
  "language_info": {
   "codemirror_mode": {
    "name": "ipython",
    "version": 3
   },
   "file_extension": ".py",
   "mimetype": "text/x-python",
   "name": "python",
   "nbconvert_exporter": "python",
   "pygments_lexer": "ipython3",
   "version": "3.9.7"
  }
 },
 "nbformat": 4,
 "nbformat_minor": 5
}
