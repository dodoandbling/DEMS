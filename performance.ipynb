{
 "cells": [
  {
   "cell_type": "markdown",
   "metadata": {},
   "source": [
    "### Stage I\n",
    "#### Matrix Decomposition"
   ]
  },
  {
   "cell_type": "code",
   "execution_count": 5,
   "metadata": {},
   "outputs": [],
   "source": [
    "# from mf.mf import godec\n",
    "import numpy as np\n",
    "import scipy.io as scio\n",
    "import matplotlib.pyplot as plt\n",
    "import copy\n",
    "from sklearn.metrics import roc_curve, auc\n",
    "import inspect\n",
    "from alg_estimationC import est_c_LS\n",
    "import seaborn as sns\n",
    "from sklearn import metrics\n",
    "\n",
    "casename = 'case39'\n",
    "# plt.style.use('fivethirtyeight')\n",
    "# Plot options\n",
    "plt.rcParams['lines.linewidth'] = 1.5\n",
    "plt.rcParams['lines.markersize'] = 6\n",
    "plt.rcParams['font.size'] = 16\n",
    "plt.rcParams['font.weight'] = 'normal'\n",
    "plt.rcParams[\"axes.labelweight\"] = \"normal\"\n",
    "plt.rcParams['figure.figsize'] = (5,4)\n",
    "plt.rcParams['figure.constrained_layout.use'] = True\n",
    "plt.rcParams['legend.loc'] = 'lower right'\n",
    "plt.rcParams['legend.fontsize'] = 39\n",
    "plt.rcParams['text.usetex'] = True#默认为false，此处设置为TRUE\n",
    "plt.rcParams['font.family'] = 'Times New Roman'"
   ]
  },
  {
   "cell_type": "code",
   "execution_count": 6,
   "metadata": {},
   "outputs": [],
   "source": [
    "def mean_absolute_error(new, true):\n",
    "    mae_sum = []\n",
    "    for i in range(new.shape[0]):\n",
    "        e = new[i,:] - true[i,:]\n",
    "        mae = np.linalg.norm(e, ord = 1)/new.shape[1]\n",
    "        mae_sum.append(mae)\n",
    "    return mae_sum\n",
    "\n",
    "# def mean_error(new, true):\n",
    "#     mae_sum = []\n",
    "#     for i in range(new.shape[0]):\n",
    "#         e = new[i,:] - true[i,:]\n",
    "#         mae = np.sum(e)/new.shape[1]\n",
    "#         mae_sum.append(mae)\n",
    "#     return mae_sum\n",
    "\n",
    "def absolute_error(new, true):\n",
    "    aError = new - true\n",
    "    # print(aError.shape)\n",
    "    # Mean of 100 sets of data\n",
    "    aError_mean = np.mean(aError,0)\n",
    "    return aError_mean\n",
    "\n",
    "def a_decect(a,times):\n",
    "    no_mea = a.shape[1]\n",
    "    a_true_sum = np.zeros((times,no_mea))\n",
    "    for i in range(times):\n",
    "        if i%2 == 0:\n",
    "            a_true_sum[i, :] = a[i,:]\n",
    "    return a_true_sum\n",
    "\n",
    "def detection_label(H, a):\n",
    "    Hmax = copy.deepcopy(H)\n",
    "    Hmax = abs(Hmax)\n",
    "    Hmax[Hmax == 0] = np.amax(Hmax) + 1\n",
    "    ep = np.min(Hmax)\n",
    "    y_pred = []\n",
    "    for v in a:\n",
    "        if np.max(abs(v))>ep:\n",
    "            y_pred.append(1)\n",
    "        else:\n",
    "            y_pred.append(0)\n",
    "    return y_pred\n",
    "\n",
    "def retrieve_name(var):\n",
    "    callers_local_vars = inspect.currentframe().f_back.f_locals.items()\n",
    "    return [var_name for var_name, var_val in callers_local_vars if var_val is var]\n",
    "\n",
    "def get_iqr_data(datas):\n",
    "    q1=np.quantile(datas,0.25)\n",
    "    q2=np.median(datas)\n",
    "    q3=np.quantile(datas,0.75)\n",
    "    iqr=q3-q1\n",
    "    up=q3+1.5*iqr\n",
    "    return up\n",
    "\n",
    "def c_bool(c):\n",
    "    \"\"\"\n",
    "    The re-estimated injection phase angle c from decomposition：\n",
    "    Convert the bus that are attacked to 1, the bus that are not attacked to 0\n",
    "    \"\"\"\n",
    "    c_cvt = np.zeros((c.shape[0],c.shape[1]))\n",
    "\n",
    "    for i in range(c.shape[0]):\n",
    "        # c[i] = [abs(j) for j in c[i]]\n",
    "        c_attacked = []\n",
    "        c_abs = list(map(abs,c[i]))\n",
    "        up = get_iqr_data(c_abs)\n",
    "        for j in c_abs:\n",
    "            if j > 0.1:\n",
    "                c_attacked.append(1)\n",
    "            else:\n",
    "                c_attacked.append(0)\n",
    "        c_cvt[i] = c_attacked\n",
    "    return c_cvt\n",
    "\n",
    "def bool_c(c_bool, c_new):\n",
    "    c_cvt = c_bool*c_new\n",
    "    return c_cvt\n",
    "\n",
    "def a_bool(a):\n",
    "    \"\"\"\n",
    "    The re-estimated injection phase angle a from decomposition：\n",
    "    Convert the meters that are attacked to 1, the meters that are not attacked to 0\n",
    "    \"\"\"\n",
    "    a_cvt = np.zeros((a.shape[0],a.shape[1]))\n",
    "\n",
    "    for i in range(a.shape[0]):\n",
    "        a_attacked = []\n",
    "        a_abs = list(map(abs,a[i]))\n",
    "        for j in a_abs:\n",
    "            if j > 0.5:\n",
    "                a_attacked.append(1)\n",
    "            else:\n",
    "                a_attacked.append(0)\n",
    "        a_cvt[i] = a_attacked\n",
    "    return a_cvt\n",
    "\n",
    "def fpr_tpr(y_true, y_pred):\n",
    "    [m,n] = y_true.shape\n",
    "    y_true = y_true.reshape(m*n, 1)\n",
    "    y_pred = y_pred.reshape(m*n, 1)\n",
    "\n",
    "    tn, fp, fn, tp, = metrics.confusion_matrix(y_true, y_pred).ravel()\n",
    "\n",
    "    fpr = fp / (fp + tn)\n",
    "    tpr = tp / (tp + fn)\n",
    "\n",
    "    return fpr,tpr\n",
    "\n",
    "def est_a_LS(H, C_new, times):\n",
    "    a_sure = []\n",
    "    for i in range(times):\n",
    "        a_est = H@C_new[i,:].T\n",
    "        a_sure .append(a_est)\n",
    "    a_sure  = np.array(a_sure )\n",
    "    return a_sure"
   ]
  },
  {
   "cell_type": "code",
   "execution_count": 7,
   "metadata": {},
   "outputs": [],
   "source": [
    "#load data \n",
    "path = f\"XXX\"\n",
    "# z_sum0 = scio.loadmat(path+\"\\\\z_0.mat\")['z'][:,:,0]\n",
    "z_sum5 = scio.loadmat(path+\"/z_5.mat\")['z'][:,:,0]\n",
    "# z_sum10 = scio.loadmat(path+\"\\\\z_10.mat\")['z'][:,:,0]\n",
    "\n",
    "# single-bus with 5% noise\n",
    "za_sin5_sum = scio.loadmat(path+\"/single/za_5.mat\")['za'][:,:,0]\n",
    "a_sin5_sum = scio.loadmat(path+\"/single/a_5.mat\")['a'][:,:,0]\n",
    "c_sin5_true_sum = scio.loadmat(path+\"/single/c_5.mat\")['c'][:,:,0]\n",
    "\n",
    "# uncoordinate multiple-bus with 5% noise\n",
    "za_um5_sum = scio.loadmat(path+\"/unmul/za_5.mat\")['za'][:,:,0]\n",
    "a_um5_sum = scio.loadmat(path+\"/unmul/a_5.mat\")['a'][:,:,0]\n",
    "c_um5_true_sum = scio.loadmat(path+\"/unmul/c_5.mat\")['c'][:,:,0]\n",
    "\n",
    "# coordinate multiple-bus with 5% noise\n",
    "za_co5_sum = scio.loadmat(path+\"/comul/za_5.mat\")['za'][:,:,0]\n",
    "a_co5_sum = scio.loadmat(path+\"/comul/a_5.mat\")['a'][:,:,0]\n",
    "c_co5_true_sum = scio.loadmat(path+\"/comul/c_5.mat\")['c'][:,:,0]\n",
    "\n",
    "\n",
    "H = scio.loadmat(path+\"/H.mat\")['h']\n",
    "Wr_5 = scio.loadmat(path+\"/W-5.mat\")['w']\n",
    "# Wr_10 = scio.loadmat(path+\"\\\\W-10.mat\")['w']\n",
    "P_inv = np.linalg.inv(H.T@H)\n",
    "# P_noise_inv_5 = np.linalg.inv(H.T@Wr_5@H)\n",
    "# P_noise_inv_10 = np.linalg.inv(H.T@Wr_10@H)\n",
    "\n",
    "# config\n",
    "att_times = 100\n",
    "\n",
    "\n",
    "# LRMF\n",
    "a_new_sin5_sum = scio.loadmat(path+\"/LRMF/a_new/a_new_single5.mat\")['A']\n",
    "a_new_um5_sum = scio.loadmat(path+\"/LRMF/a_new/a_new_unmul5.mat\")['A']\n",
    "a_new_co5_sum = scio.loadmat(path+\"/LRMF/a_new/a_new_comul5.mat\")['A']\n",
    "\n",
    "# ADMM\n",
    "aa_new_sin5_sum = scio.loadmat(path+\"/ADMM/a_new/a_new_single5.mat\")['A']\n",
    "aa_new_um5_sum = scio.loadmat(path+\"/ADMM/a_new/a_new_unmul5.mat\")['A']\n",
    "aa_new_co5_sum = scio.loadmat(path+\"/ADMM/a_new/a_new_comul5.mat\")['A']\n",
    "\n",
    "# GoDEC\n",
    "ag_new_sin5_sum = scio.loadmat(path+\"/GoDEC/a_new/a_new_single5.mat\")['A']\n",
    "ag_new_um5_sum = scio.loadmat(path+\"/GoDEC/a_new/a_new_unmul5.mat\")['A']\n",
    "ag_new_co5_sum = scio.loadmat(path+\"/GoDEC/a_new/a_new_comul5.mat\")['A']"
   ]
  },
  {
   "cell_type": "markdown",
   "metadata": {},
   "source": [
    "- Estimate injected error vector"
   ]
  },
  {
   "cell_type": "code",
   "execution_count": 8,
   "metadata": {},
   "outputs": [],
   "source": [
    "# LRMF\n",
    "c_new_single5_sum = est_c_LS(H, P_inv, a_new_sin5_sum, att_times)\n",
    "c_new_unmul5_sum = est_c_LS(H, P_inv, a_new_um5_sum, att_times)\n",
    "c_new_comul5_sum = est_c_LS(H, P_inv, a_new_co5_sum, att_times)\n",
    "\n",
    "\n",
    "# godec\n",
    "cg_new_single5_sum = est_c_LS(H, P_inv, ag_new_sin5_sum, att_times)\n",
    "cg_mae_sin5 = mean_absolute_error(cg_new_single5_sum, c_sin5_true_sum)\n",
    "\n",
    "cg_new_unmul5_sum = est_c_LS(H, P_inv, ag_new_um5_sum, att_times)\n",
    "cg_mae_um5 = mean_absolute_error(cg_new_unmul5_sum, c_um5_true_sum)\n",
    "\n",
    "cg_new_comul5_sum = est_c_LS(H, P_inv, ag_new_co5_sum, att_times)\n",
    "cg_mae_co5 = mean_absolute_error(cg_new_comul5_sum, c_co5_true_sum)\n",
    "\n",
    "# admm\n",
    "ca_new_single5_sum = est_c_LS(H, P_inv, aa_new_sin5_sum, att_times)\n",
    "ca_mae_sin5 = mean_absolute_error(ca_new_single5_sum, c_sin5_true_sum)\n",
    "\n",
    "ca_new_unmul5_sum = est_c_LS(H, P_inv, aa_new_um5_sum, att_times)\n",
    "ca_mae_um5 = mean_absolute_error(ca_new_unmul5_sum, c_um5_true_sum)\n",
    "\n",
    "ca_new_comul5_sum = est_c_LS(H, P_inv, aa_new_co5_sum, att_times)\n",
    "ca_mae_co5 = mean_absolute_error(ca_new_comul5_sum, c_co5_true_sum)\n",
    "\n",
    "# attack_type_list = [c_new_single5_sum,c_new_unmul5_sum,c_new_comul5_sum]\n",
    "\n",
    "# for i in attack_type_list:\n",
    "#     # print(retrieve_name(i))\n",
    "#     name = retrieve_name(i)[0]\n",
    "#     # print(name)\n",
    "#     dir = f\"{path}\\c_new\\{name}.mat\"\n",
    "#     scio.savemat(dir, {'cnew': i})"
   ]
  },
  {
   "cell_type": "markdown",
   "metadata": {},
   "source": [
    "- Convert to bool"
   ]
  },
  {
   "cell_type": "code",
   "execution_count": 9,
   "metadata": {},
   "outputs": [],
   "source": [
    "c_new_single5_bool = c_bool(c_new_single5_sum)\n",
    "c_new_unmul5_bool = c_bool(c_new_unmul5_sum)\n",
    "c_new_comul5_bool = c_bool(c_new_comul5_sum)\n",
    "\n",
    "ca_new_single5_bool = c_bool(ca_new_single5_sum)\n",
    "ca_new_unmul5_bool = c_bool(ca_new_unmul5_sum)\n",
    "ca_new_comul5_bool = c_bool(ca_new_comul5_sum)\n",
    "\n",
    "cg_new_single5_bool = c_bool(cg_new_single5_sum)\n",
    "cg_new_unmul5_bool = c_bool(cg_new_unmul5_sum)\n",
    "cg_new_comul5_bool = c_bool(cg_new_comul5_sum)\n",
    "\n",
    "c_sin5_true_bool = c_bool(c_sin5_true_sum)\n",
    "c_um5_true_bool = c_bool(c_um5_true_sum)\n",
    "c_co5_true_bool = c_bool(c_co5_true_sum)\n",
    "\n",
    "a_new_single5_bool = a_bool(a_new_sin5_sum)\n",
    "a_new_unmul5_bool = a_bool(a_new_um5_sum)\n",
    "a_new_comul5_bool = a_bool(a_new_co5_sum)\n",
    "\n",
    "aa_new_single5_bool = a_bool(aa_new_sin5_sum)\n",
    "aa_new_unmul5_bool = a_bool(aa_new_um5_sum)\n",
    "aa_new_comul5_bool = a_bool(aa_new_co5_sum)\n",
    "\n",
    "ag_new_single5_bool = a_bool(ag_new_sin5_sum)\n",
    "ag_new_unmul5_bool = a_bool(ag_new_um5_sum)\n",
    "ag_new_comul5_bool = a_bool(ag_new_co5_sum)\n",
    "\n",
    "a_sin5_true_bool = a_bool(a_sin5_sum)\n",
    "a_um5_true_bool = a_bool(a_um5_sum)\n",
    "a_co5_true_bool = a_bool(a_co5_sum)"
   ]
  },
  {
   "cell_type": "markdown",
   "metadata": {},
   "source": [
    "- Verification by D-FACTS"
   ]
  },
  {
   "cell_type": "code",
   "execution_count": 10,
   "metadata": {},
   "outputs": [],
   "source": [
    "from HDS.DCSE.pgse_env import pgse_env\n",
    "from HDS.DCSE.config.config_mea_idx import define_mea_idx_noise\n",
    "from HDS.DCSE.gendata.gen_load import gen_case, gen_load_data\n",
    "from HDS.DCSE.MTD import mtd\n",
    "\n",
    "from pypower.api import *\n",
    "from pypower.idx_bus import *\n",
    "from pypower.idx_brch import *\n",
    "from pypower.idx_gen import *\n"
   ]
  },
  {
   "cell_type": "code",
   "execution_count": 11,
   "metadata": {},
   "outputs": [
    {
     "name": "stdout",
     "output_type": "stream",
     "text": [
      "Run on the default load condition.\n",
      "Initial OPF tests ok.\n",
      "************************************************************\n",
      "Load file found, loading the data...\n"
     ]
    }
   ],
   "source": [
    "    case_name = 'case39'\n",
    "    case = case39()\n",
    "    case = gen_case(case, case_name) \n",
    "    mea_idx, no_mea, noise_sigma = define_mea_idx_noise(case, 'FULL')\n",
    "    case_env = pgse_env(case = case, case_name = case_name, noise_sigma = noise_sigma, idx = mea_idx, fpr = 0.05)\n",
    "\n",
    "    src_dir = \"XXX\"\n",
    "    _, _ = gen_load_data(case, case_name, src_dir)\n"
   ]
  },
  {
   "cell_type": "code",
   "execution_count": 12,
   "metadata": {},
   "outputs": [],
   "source": [
    "pb = mtd(case_env=case_env)\n",
    "\n",
    "#LRMF\n",
    "c_sure_sin5_bool = pb.att_verify_loop(c_sin5_true_sum,c_new_single5_sum,att_times)\n",
    "c_sure_um5_bool = pb.att_verify_loop(c_um5_true_sum,c_new_unmul5_sum,att_times)\n",
    "c_sure_co5_bool = pb.att_verify_loop(c_co5_true_sum,c_new_comul5_sum,att_times)\n"
   ]
  },
  {
   "cell_type": "code",
   "execution_count": 13,
   "metadata": {},
   "outputs": [],
   "source": [
    "c_sure_sin5_sum = bool_c(c_sure_sin5_bool, c_new_single5_sum)\n",
    "c_sure_um5_sum = bool_c(c_sure_um5_bool, c_new_unmul5_sum)\n",
    "c_sure_co5_sum = bool_c(c_sure_co5_bool, c_new_comul5_sum)\n",
    "\n",
    "a_sure_sin5_sum = est_a_LS(H, c_sure_sin5_sum, att_times)\n",
    "a_sure_um5_sum = est_a_LS(H, c_sure_um5_sum, att_times)\n",
    "a_sure_co5_sum = est_a_LS(H, c_sure_co5_sum, att_times)"
   ]
  },
  {
   "cell_type": "code",
   "execution_count": 14,
   "metadata": {},
   "outputs": [],
   "source": [
    "c_sure_sin5_bool = c_bool(c_sure_sin5_sum)\n",
    "c_sure_um5_bool = c_bool(c_sure_um5_sum)\n",
    "c_sure_co5_bool = c_bool(c_sure_co5_sum)\n",
    "\n",
    "a_sure_sin5_bool = a_bool(a_sure_sin5_sum)\n",
    "a_sure_um5_bool = a_bool(a_sure_um5_sum)\n",
    "a_sure_co5_bool = a_bool(a_sure_co5_sum)\n",
    "\n",
    "# scio.savemat(path+\"/LRMF/sure/a_sure_sin5.mat\", {'asure': a_sure_sin5_sum})\n",
    "# scio.savemat(path+\"/LRMF/sure/c_sure_sin5.mat\", {'csure': c_sure_sin5_sum})"
   ]
  },
  {
   "cell_type": "markdown",
   "metadata": {},
   "source": [
    "- FPR and TPR"
   ]
  },
  {
   "cell_type": "code",
   "execution_count": 15,
   "metadata": {},
   "outputs": [],
   "source": [
    "# a\n",
    "fp_lrmf_sin5, tp_lrmf_sin5 = fpr_tpr(a_sin5_true_bool, a_new_single5_bool )\n",
    "fp_lrmf_um5, tp_lrmf_um5 = fpr_tpr(a_um5_true_bool, a_new_unmul5_bool)\n",
    "fp_lrmf_co5, tp_lrmf_co5 = fpr_tpr(a_co5_true_bool, a_new_comul5_bool)\n",
    "\n",
    "fp_admm_sin5, tp_admm_sin5 = fpr_tpr(a_sin5_true_bool, aa_new_single5_bool)\n",
    "fp_admm_um5, tp_admm_um5 = fpr_tpr(a_um5_true_bool, aa_new_unmul5_bool)\n",
    "fp_admm_co5, tp_admm_co5 = fpr_tpr(a_co5_true_bool, aa_new_comul5_bool)\n",
    "\n",
    "fp_godec_sin5, tp_godec_sin5 = fpr_tpr(a_sin5_true_bool, ag_new_single5_bool)\n",
    "fp_godec_um5, tp_godec_um5 = fpr_tpr(a_um5_true_bool, ag_new_unmul5_bool)\n",
    "fp_godec_co5, tp_godec_co5 = fpr_tpr(a_co5_true_bool, ag_new_comul5_bool)\n",
    "\n",
    "fp_dems_sin5, tp_dems_sin5 = fpr_tpr(a_sin5_true_bool, a_sure_sin5_bool)\n",
    "fp_dems_um5, tp_dems_um5 = fpr_tpr(a_um5_true_bool, a_sure_um5_bool)\n",
    "fp_dems_co5, tp_dems_co5 = fpr_tpr(a_co5_true_bool, a_sure_co5_bool)\n"
   ]
  },
  {
   "cell_type": "code",
   "execution_count": 17,
   "metadata": {},
   "outputs": [],
   "source": [
    "# c\n",
    "fp_lrmf_single5, tp_lrmf_single5 = fpr_tpr(c_sin5_true_bool,c_new_single5_bool )\n",
    "fp_lrmf_unmul5, tp_lrmf_unmul5 = fpr_tpr(c_um5_true_bool, c_new_unmul5_bool)\n",
    "fp_lrmf_comul5, tp_lrmf_comul5 = fpr_tpr(c_co5_true_bool, c_new_comul5_bool)\n",
    "\n",
    "fp_admm_single5, tp_admm_single5 = fpr_tpr(c_sin5_true_bool, c_new_single5_bool)\n",
    "fp_admm_unmul5, tp_admm_unmul5 = fpr_tpr(c_um5_true_bool, ca_new_unmul5_bool)\n",
    "fp_admm_comul5, tp_admm_comul5 = fpr_tpr(c_co5_true_bool, ca_new_comul5_bool)\n",
    "\n",
    "fp_godec_single5, tp_godec_single5 = fpr_tpr(c_sin5_true_bool, cg_new_single5_bool)\n",
    "fp_godec_unmul5, tp_godec_unmul5 = fpr_tpr(c_um5_true_bool, cg_new_unmul5_bool)\n",
    "fp_godec_comul5, tp_godec_comul5 = fpr_tpr(c_co5_true_bool, cg_new_comul5_bool)\n",
    "\n",
    "fp_dems_single5, tp_dems_single5 = fpr_tpr(c_sin5_true_bool, c_sure_sin5_bool)\n",
    "fp_dems_unmul5, tp_dems_unmul5 = fpr_tpr(c_um5_true_bool, c_sure_um5_bool)\n",
    "fp_dems_comul5, tp_dems_comul5 = fpr_tpr(c_co5_true_bool, c_sure_co5_bool)\n"
   ]
  },
  {
   "cell_type": "markdown",
   "metadata": {},
   "source": [
    "- CDF before and after D-FACTS"
   ]
  },
  {
   "cell_type": "code",
   "execution_count": 19,
   "metadata": {},
   "outputs": [],
   "source": [
    "a_mae_sin5 = mean_absolute_error(a_new_sin5_sum, a_sin5_sum)\n",
    "a_mae_um5 = mean_absolute_error(a_new_um5_sum, a_um5_sum)\n",
    "a_mae_co5 = mean_absolute_error(a_new_co5_sum, a_co5_sum)\n",
    "\n",
    "c_mae_sin5 = mean_absolute_error(c_new_single5_sum, c_sin5_true_sum)\n",
    "c_mae_um5 = mean_absolute_error(c_new_unmul5_sum, c_um5_true_sum)\n",
    "c_mae_co5 = mean_absolute_error(c_new_comul5_sum, c_co5_true_sum)\n",
    "\n",
    "as_mae_sin5 = mean_absolute_error(a_sure_sin5_sum, a_sin5_sum)\n",
    "as_mae_um5 = mean_absolute_error(a_sure_um5_sum, a_um5_sum)\n",
    "as_mae_co5 = mean_absolute_error(a_sure_co5_sum, a_co5_sum)\n",
    "\n",
    "cs_mae_sin5 = mean_absolute_error(c_sure_sin5_sum, c_sin5_true_sum)\n",
    "cs_mae_um5 = mean_absolute_error(c_sure_um5_sum, c_um5_true_sum)\n",
    "cs_mae_co5 = mean_absolute_error(c_sure_co5_sum, c_co5_true_sum)"
   ]
  },
  {
   "cell_type": "code",
   "execution_count": 53,
   "metadata": {},
   "outputs": [],
   "source": [
    "import pandas as pd\n",
    "colname = ['Sg.','UnM.\\n$\\mathbf{\\mathit{\\hat{c}}}$','CoM.','Sg.','UnM.\\n$\\mathbf{\\mathit{\\hat{c}_{acc}}}$','CoM.']\n",
    "data_row = np.array([c_mae_sin5, c_mae_um5, c_mae_co5, cs_mae_sin5, cs_mae_sin5, cs_mae_sin5]).T\n",
    "\n",
    "colname_a = ['Sg.','UnM.\\n$\\mathbf{\\mathit{\\hat{a}}}$','CoM.','Sg.','UnM.\\n$\\mathbf{\\mathit{\\hat{a}_{acc}}}$','CoM.']\n",
    "data_row_a = np.array([a_mae_sin5, a_mae_um5, a_mae_co5, as_mae_sin5, as_mae_um5, as_mae_co5]).T"
   ]
  },
  {
   "cell_type": "code",
   "execution_count": 56,
   "metadata": {},
   "outputs": [
    {
     "data": {
      "image/png": "[encoded data removed]",
      "text/plain": [
       "<Figure size 360x288 with 1 Axes>"
      ]
     },
     "metadata": {
      "needs_background": "light"
     },
     "output_type": "display_data"
    }
   ],
   "source": [
    "bplot = plt.boxplot(data_row,meanline=True,showmeans=True,labels=colname,notch=True,patch_artist=True, whis=5)\n",
    "plt.grid()\n",
    "ylabel = np.linspace(0, 0.02, 3)\n",
    "plt.yticks(ylabel)\n",
    "plt.ylim(0,0.02)\n",
    "plt.ylabel(r'$MAE(\\mathbf{c})$')\n",
    "\n",
    "colors = ['royalblue', 'CornflowerBlue', 'LightSteelBlue', 'Chocolate','Orange','Moccasin']\n",
    "for patch, color in zip(bplot['boxes'], colors):\n",
    "    patch.set_facecolor(color)\n",
    "\n",
    "\n",
    "plt.savefig(\"/Users/dqy/Desktop/code0312/HDS/pic/case39/c39-mae-box.eps\", dpi=600)\n"
   ]
  },
  {
   "cell_type": "code",
   "execution_count": 59,
   "metadata": {},
   "outputs": [
    {
     "data": {
      "image/png": "[encoded data removed]",
      "text/plain": [
       "<Figure size 360x288 with 1 Axes>"
      ]
     },
     "metadata": {
      "needs_background": "light"
     },
     "output_type": "display_data"
    }
   ],
   "source": [
    "bplot = plt.boxplot(data_row_a,meanline=True,showmeans=True,labels=colname_a,notch=True,patch_artist=True, whis=10)\n",
    "plt.grid()\n",
    "ylabel = np.linspace(0, 0.4, 3)\n",
    "plt.yticks(ylabel)\n",
    "plt.ylim(0,0.4)\n",
    "plt.ylabel(r'$MAE(\\mathbf{a})$')\n",
    "\n",
    "colors = ['royalblue', 'CornflowerBlue', 'LightSteelBlue', 'Chocolate','Orange','Moccasin']\n",
    "for patch, color in zip(bplot['boxes'], colors):\n",
    "    patch.set_facecolor(color)\n",
    "\n",
    "plt.savefig(\"/Users/dqy/Desktop/code0312/HDS/pic/case39/a39-mae-box.eps\", dpi=600)"
   ]
  },
  {
   "cell_type": "code",
   "execution_count": null,
   "metadata": {},
   "outputs": [],
   "source": []
  }
 ],
 "metadata": {
  "kernelspec": {
   "display_name": "base",
   "language": "python",
   "name": "python3"
  },
  "language_info": {
   "codemirror_mode": {
    "name": "ipython",
    "version": 3
   },
   "file_extension": ".py",
   "mimetype": "text/x-python",
   "name": "python",
   "nbconvert_exporter": "python",
   "pygments_lexer": "ipython3",
   "version": "3.9.1"
  },
  "orig_nbformat": 4
 },
 "nbformat": 4,
 "nbformat_minor": 2
}
